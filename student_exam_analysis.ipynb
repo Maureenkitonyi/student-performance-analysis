{
 "cells": [
  {
   "cell_type": "code",
   "execution_count": 94,
   "id": "74c330f2",
   "metadata": {},
   "outputs": [],
   "source": [
    "import pandas as pd "
   ]
  },
  {
   "cell_type": "code",
   "execution_count": 95,
   "id": "a19834cd",
   "metadata": {},
   "outputs": [
    {
     "name": "stdout",
     "output_type": "stream",
     "text": [
      "(200, 6)\n"
     ]
    },
    {
     "data": {
      "text/html": [
       "<div>\n",
       "<style scoped>\n",
       "    .dataframe tbody tr th:only-of-type {\n",
       "        vertical-align: middle;\n",
       "    }\n",
       "\n",
       "    .dataframe tbody tr th {\n",
       "        vertical-align: top;\n",
       "    }\n",
       "\n",
       "    .dataframe thead th {\n",
       "        text-align: right;\n",
       "    }\n",
       "</style>\n",
       "<table border=\"1\" class=\"dataframe\">\n",
       "  <thead>\n",
       "    <tr style=\"text-align: right;\">\n",
       "      <th></th>\n",
       "      <th>student_id</th>\n",
       "      <th>hours_studied</th>\n",
       "      <th>sleep_hours</th>\n",
       "      <th>attendance_percent</th>\n",
       "      <th>previous_scores</th>\n",
       "      <th>exam_score</th>\n",
       "    </tr>\n",
       "  </thead>\n",
       "  <tbody>\n",
       "    <tr>\n",
       "      <th>0</th>\n",
       "      <td>S001</td>\n",
       "      <td>8.0</td>\n",
       "      <td>8.8</td>\n",
       "      <td>72.1</td>\n",
       "      <td>45</td>\n",
       "      <td>30.2</td>\n",
       "    </tr>\n",
       "    <tr>\n",
       "      <th>1</th>\n",
       "      <td>S002</td>\n",
       "      <td>1.3</td>\n",
       "      <td>8.6</td>\n",
       "      <td>60.7</td>\n",
       "      <td>55</td>\n",
       "      <td>25.0</td>\n",
       "    </tr>\n",
       "    <tr>\n",
       "      <th>2</th>\n",
       "      <td>S003</td>\n",
       "      <td>4.0</td>\n",
       "      <td>8.2</td>\n",
       "      <td>73.7</td>\n",
       "      <td>86</td>\n",
       "      <td>35.8</td>\n",
       "    </tr>\n",
       "    <tr>\n",
       "      <th>3</th>\n",
       "      <td>S004</td>\n",
       "      <td>3.5</td>\n",
       "      <td>4.8</td>\n",
       "      <td>95.1</td>\n",
       "      <td>66</td>\n",
       "      <td>34.0</td>\n",
       "    </tr>\n",
       "    <tr>\n",
       "      <th>4</th>\n",
       "      <td>S005</td>\n",
       "      <td>9.1</td>\n",
       "      <td>6.4</td>\n",
       "      <td>89.8</td>\n",
       "      <td>71</td>\n",
       "      <td>40.3</td>\n",
       "    </tr>\n",
       "  </tbody>\n",
       "</table>\n",
       "</div>"
      ],
      "text/plain": [
       "  student_id  hours_studied  sleep_hours  attendance_percent  previous_scores  \\\n",
       "0       S001            8.0          8.8                72.1               45   \n",
       "1       S002            1.3          8.6                60.7               55   \n",
       "2       S003            4.0          8.2                73.7               86   \n",
       "3       S004            3.5          4.8                95.1               66   \n",
       "4       S005            9.1          6.4                89.8               71   \n",
       "\n",
       "   exam_score  \n",
       "0        30.2  \n",
       "1        25.0  \n",
       "2        35.8  \n",
       "3        34.0  \n",
       "4        40.3  "
      ]
     },
     "execution_count": 95,
     "metadata": {},
     "output_type": "execute_result"
    }
   ],
   "source": [
    "#load the dataset\n",
    "df = pd.read_csv(\"student_exam_scores.csv\")\n",
    "print(df.shape)\n",
    "df.head()"
   ]
  },
  {
   "cell_type": "code",
   "execution_count": 96,
   "id": "d6b0237b",
   "metadata": {},
   "outputs": [
    {
     "data": {
      "text/html": [
       "<div>\n",
       "<style scoped>\n",
       "    .dataframe tbody tr th:only-of-type {\n",
       "        vertical-align: middle;\n",
       "    }\n",
       "\n",
       "    .dataframe tbody tr th {\n",
       "        vertical-align: top;\n",
       "    }\n",
       "\n",
       "    .dataframe thead th {\n",
       "        text-align: right;\n",
       "    }\n",
       "</style>\n",
       "<table border=\"1\" class=\"dataframe\">\n",
       "  <thead>\n",
       "    <tr style=\"text-align: right;\">\n",
       "      <th></th>\n",
       "      <th>student_id</th>\n",
       "      <th>hours_studied</th>\n",
       "      <th>sleep_hours</th>\n",
       "      <th>attendance_percent</th>\n",
       "      <th>previous_scores</th>\n",
       "      <th>exam_score</th>\n",
       "    </tr>\n",
       "  </thead>\n",
       "  <tbody>\n",
       "    <tr>\n",
       "      <th>190</th>\n",
       "      <td>S191</td>\n",
       "      <td>5.6</td>\n",
       "      <td>8.5</td>\n",
       "      <td>92.5</td>\n",
       "      <td>43</td>\n",
       "      <td>32.2</td>\n",
       "    </tr>\n",
       "    <tr>\n",
       "      <th>191</th>\n",
       "      <td>S192</td>\n",
       "      <td>4.1</td>\n",
       "      <td>7.1</td>\n",
       "      <td>59.1</td>\n",
       "      <td>50</td>\n",
       "      <td>30.7</td>\n",
       "    </tr>\n",
       "    <tr>\n",
       "      <th>192</th>\n",
       "      <td>S193</td>\n",
       "      <td>3.7</td>\n",
       "      <td>5.5</td>\n",
       "      <td>60.6</td>\n",
       "      <td>90</td>\n",
       "      <td>28.8</td>\n",
       "    </tr>\n",
       "    <tr>\n",
       "      <th>193</th>\n",
       "      <td>S194</td>\n",
       "      <td>11.2</td>\n",
       "      <td>6.7</td>\n",
       "      <td>89.9</td>\n",
       "      <td>59</td>\n",
       "      <td>46.7</td>\n",
       "    </tr>\n",
       "    <tr>\n",
       "      <th>194</th>\n",
       "      <td>S195</td>\n",
       "      <td>5.9</td>\n",
       "      <td>4.0</td>\n",
       "      <td>67.0</td>\n",
       "      <td>78</td>\n",
       "      <td>33.8</td>\n",
       "    </tr>\n",
       "    <tr>\n",
       "      <th>195</th>\n",
       "      <td>S196</td>\n",
       "      <td>10.5</td>\n",
       "      <td>5.4</td>\n",
       "      <td>94.0</td>\n",
       "      <td>87</td>\n",
       "      <td>42.7</td>\n",
       "    </tr>\n",
       "    <tr>\n",
       "      <th>196</th>\n",
       "      <td>S197</td>\n",
       "      <td>7.1</td>\n",
       "      <td>6.1</td>\n",
       "      <td>85.1</td>\n",
       "      <td>92</td>\n",
       "      <td>40.4</td>\n",
       "    </tr>\n",
       "    <tr>\n",
       "      <th>197</th>\n",
       "      <td>S198</td>\n",
       "      <td>1.6</td>\n",
       "      <td>6.9</td>\n",
       "      <td>63.8</td>\n",
       "      <td>76</td>\n",
       "      <td>28.2</td>\n",
       "    </tr>\n",
       "    <tr>\n",
       "      <th>198</th>\n",
       "      <td>S199</td>\n",
       "      <td>12.0</td>\n",
       "      <td>7.3</td>\n",
       "      <td>50.5</td>\n",
       "      <td>58</td>\n",
       "      <td>42.0</td>\n",
       "    </tr>\n",
       "    <tr>\n",
       "      <th>199</th>\n",
       "      <td>S200</td>\n",
       "      <td>10.2</td>\n",
       "      <td>6.3</td>\n",
       "      <td>97.4</td>\n",
       "      <td>68</td>\n",
       "      <td>37.8</td>\n",
       "    </tr>\n",
       "  </tbody>\n",
       "</table>\n",
       "</div>"
      ],
      "text/plain": [
       "    student_id  hours_studied  sleep_hours  attendance_percent  \\\n",
       "190       S191            5.6          8.5                92.5   \n",
       "191       S192            4.1          7.1                59.1   \n",
       "192       S193            3.7          5.5                60.6   \n",
       "193       S194           11.2          6.7                89.9   \n",
       "194       S195            5.9          4.0                67.0   \n",
       "195       S196           10.5          5.4                94.0   \n",
       "196       S197            7.1          6.1                85.1   \n",
       "197       S198            1.6          6.9                63.8   \n",
       "198       S199           12.0          7.3                50.5   \n",
       "199       S200           10.2          6.3                97.4   \n",
       "\n",
       "     previous_scores  exam_score  \n",
       "190               43        32.2  \n",
       "191               50        30.7  \n",
       "192               90        28.8  \n",
       "193               59        46.7  \n",
       "194               78        33.8  \n",
       "195               87        42.7  \n",
       "196               92        40.4  \n",
       "197               76        28.2  \n",
       "198               58        42.0  \n",
       "199               68        37.8  "
      ]
     },
     "execution_count": 96,
     "metadata": {},
     "output_type": "execute_result"
    }
   ],
   "source": [
    "df.head()\n",
    "df.tail(10)"
   ]
  },
  {
   "cell_type": "code",
   "execution_count": 97,
   "id": "abcae64e",
   "metadata": {},
   "outputs": [
    {
     "data": {
      "text/plain": [
       "student_id            S002\n",
       "hours_studied          1.3\n",
       "sleep_hours            8.6\n",
       "attendance_percent    60.7\n",
       "previous_scores         55\n",
       "exam_score              25\n",
       "Name: 1, dtype: object"
      ]
     },
     "execution_count": 97,
     "metadata": {},
     "output_type": "execute_result"
    }
   ],
   "source": [
    "df.iloc[1]"
   ]
  },
  {
   "cell_type": "code",
   "execution_count": 98,
   "id": "2e4a80bb",
   "metadata": {},
   "outputs": [],
   "source": [
    "df.columns = [\n",
    "    \"student_id\",\n",
    "    \"hours_studied\",\n",
    "    \"sleep_hours\",\n",
    "    \"attendance_percent\",\n",
    "    \"previous_scores\",\n",
    "    \"exam_score\"\n",
    "\n",
    "]"
   ]
  },
  {
   "cell_type": "code",
   "execution_count": 108,
   "id": "5b268f58",
   "metadata": {},
   "outputs": [
    {
     "data": {
      "text/html": [
       "<div>\n",
       "<style scoped>\n",
       "    .dataframe tbody tr th:only-of-type {\n",
       "        vertical-align: middle;\n",
       "    }\n",
       "\n",
       "    .dataframe tbody tr th {\n",
       "        vertical-align: top;\n",
       "    }\n",
       "\n",
       "    .dataframe thead th {\n",
       "        text-align: right;\n",
       "    }\n",
       "</style>\n",
       "<table border=\"1\" class=\"dataframe\">\n",
       "  <thead>\n",
       "    <tr style=\"text-align: right;\">\n",
       "      <th></th>\n",
       "      <th>student_id</th>\n",
       "      <th>study_hours</th>\n",
       "      <th>hours_slept</th>\n",
       "      <th>attendance_percent</th>\n",
       "      <th>previous_scores</th>\n",
       "      <th>exam_score</th>\n",
       "    </tr>\n",
       "  </thead>\n",
       "  <tbody>\n",
       "    <tr>\n",
       "      <th>86</th>\n",
       "      <td>S087</td>\n",
       "      <td>12.0</td>\n",
       "      <td>8.2</td>\n",
       "      <td>71.0</td>\n",
       "      <td>95</td>\n",
       "      <td>51.3</td>\n",
       "    </tr>\n",
       "    <tr>\n",
       "      <th>83</th>\n",
       "      <td>S084</td>\n",
       "      <td>10.9</td>\n",
       "      <td>5.3</td>\n",
       "      <td>87.7</td>\n",
       "      <td>88</td>\n",
       "      <td>48.9</td>\n",
       "    </tr>\n",
       "    <tr>\n",
       "      <th>60</th>\n",
       "      <td>S061</td>\n",
       "      <td>11.9</td>\n",
       "      <td>8.4</td>\n",
       "      <td>53.9</td>\n",
       "      <td>78</td>\n",
       "      <td>48.6</td>\n",
       "    </tr>\n",
       "    <tr>\n",
       "      <th>71</th>\n",
       "      <td>S072</td>\n",
       "      <td>11.4</td>\n",
       "      <td>5.5</td>\n",
       "      <td>77.1</td>\n",
       "      <td>85</td>\n",
       "      <td>47.9</td>\n",
       "    </tr>\n",
       "    <tr>\n",
       "      <th>120</th>\n",
       "      <td>S121</td>\n",
       "      <td>9.4</td>\n",
       "      <td>8.3</td>\n",
       "      <td>100.0</td>\n",
       "      <td>78</td>\n",
       "      <td>47.9</td>\n",
       "    </tr>\n",
       "  </tbody>\n",
       "</table>\n",
       "</div>"
      ],
      "text/plain": [
       "    student_id  study_hours  hours_slept  attendance_percent  previous_scores  \\\n",
       "86        S087         12.0          8.2                71.0               95   \n",
       "83        S084         10.9          5.3                87.7               88   \n",
       "60        S061         11.9          8.4                53.9               78   \n",
       "71        S072         11.4          5.5                77.1               85   \n",
       "120       S121          9.4          8.3               100.0               78   \n",
       "\n",
       "     exam_score  \n",
       "86         51.3  \n",
       "83         48.9  \n",
       "60         48.6  \n",
       "71         47.9  \n",
       "120        47.9  "
      ]
     },
     "execution_count": 108,
     "metadata": {},
     "output_type": "execute_result"
    }
   ],
   "source": [
    "df.rename(\n",
    "    columns={\n",
    "        \"hours_studied\": \"study_hours\",\n",
    "        \"sleep_hours\": \"hours_slept\"\n",
    "    },\n",
    "    inplace=True\n",
    ")\n",
    "df.head()"
   ]
  },
  {
   "cell_type": "code",
   "execution_count": 109,
   "id": "1a30ef13",
   "metadata": {},
   "outputs": [],
   "source": [
    "#sort by exam_score(highest-lowest)\n",
    "df.sort_values(by= \"exam_score\", ascending=False, inplace=True)\n"
   ]
  },
  {
   "cell_type": "code",
   "execution_count": 110,
   "id": "990fa780",
   "metadata": {},
   "outputs": [
    {
     "data": {
      "text/plain": [
       "<bound method NDFrame.head of     student_id  study_hours  hours_slept  attendance_percent  previous_scores  \\\n",
       "86        S087         12.0          8.2                71.0               95   \n",
       "83        S084         10.9          5.3                87.7               88   \n",
       "60        S061         11.9          8.4                53.9               78   \n",
       "71        S072         11.4          5.5                77.1               85   \n",
       "120       S121          9.4          8.3               100.0               78   \n",
       "..         ...          ...          ...                 ...              ...   \n",
       "70        S071          3.3          8.1                70.4               40   \n",
       "183       S184          2.1          6.0                54.3               54   \n",
       "142       S143          3.9          4.1                55.4               53   \n",
       "7         S008          2.0          4.3                75.8               55   \n",
       "19        S020          1.1          5.5                53.6               65   \n",
       "\n",
       "     exam_score  \n",
       "86         51.3  \n",
       "83         48.9  \n",
       "60         48.6  \n",
       "71         47.9  \n",
       "120        47.9  \n",
       "..          ...  \n",
       "70         20.8  \n",
       "183        19.4  \n",
       "142        19.0  \n",
       "7          18.3  \n",
       "19         17.1  \n",
       "\n",
       "[200 rows x 6 columns]>"
      ]
     },
     "execution_count": 110,
     "metadata": {},
     "output_type": "execute_result"
    }
   ],
   "source": [
    "df.sort_values(\n",
    "    by=[\"exam_score\"],\n",
    "    ascending=[False],\n",
    "    inplace=True\n",
    ")\n",
    "df.head"
   ]
  },
  {
   "cell_type": "code",
   "execution_count": 111,
   "id": "036599ce",
   "metadata": {},
   "outputs": [],
   "source": [
    "import matplotlib.pyplot as plt\n"
   ]
  },
  {
   "cell_type": "code",
   "execution_count": 112,
   "id": "f822e09c",
   "metadata": {},
   "outputs": [
    {
     "data": {
      "image/png": "[encoded data removed]",
      "text/plain": [
       "<Figure size 432x288 with 1 Axes>"
      ]
     },
     "metadata": {
      "needs_background": "light"
     },
     "output_type": "display_data"
    }
   ],
   "source": [
    "#study hours  vs exam score\n",
    "plt.scatter(df[\"study_hours\"],df[\"exam_score\"])\n",
    "plt.xlabel(\"study_hours\")\n",
    "plt.ylabel(\"exam_score\")\n",
    "plt.title(\"Relationship between study hours and exam score\")\n",
    "plt.show()\n",
    "\n"
   ]
  },
  {
   "cell_type": "code",
   "execution_count": 113,
   "id": "a80d3d3d",
   "metadata": {},
   "outputs": [
    {
     "data": {
      "image/png": "[encoded data removed]",
      "text/plain": [
       "<Figure size 432x288 with 1 Axes>"
      ]
     },
     "metadata": {
      "needs_background": "light"
     },
     "output_type": "display_data"
    }
   ],
   "source": [
    "#histogran of exam score\n",
    "plt.hist(df[\"exam_score\"], bins=10, edgecolor=\"black\")\n",
    "plt.title(\"Distribution of Exam Scores\")\n",
    "plt.xlabel(\"exam_score\")\n",
    "plt.ylabel(\"Number of students\")\n",
    "plt.show()"
   ]
  },
  {
   "cell_type": "code",
   "execution_count": 114,
   "id": "8dda78b6",
   "metadata": {},
   "outputs": [
    {
     "data": {
      "image/png": "[encoded data removed]",
      "text/plain": [
       "<Figure size 432x288 with 1 Axes>"
      ]
     },
     "metadata": {
      "needs_background": "light"
     },
     "output_type": "display_data"
    }
   ],
   "source": [
    "plt.plot(df[\"student_id\"], df[\"exam_score\"], marker=\"1\")\n",
    "plt.title(\"Exam Score by Student\")\n",
    "plt.xlabel(\"student ID\")\n",
    "plt.ylabel(\"Exam_score\")\n",
    "plt.xticks(rotation=45) #rotates label \n",
    "plt.show()"
   ]
  },
  {
   "cell_type": "code",
   "execution_count": 117,
   "id": "5611a1b5",
   "metadata": {},
   "outputs": [],
   "source": [
    "import seaborn as sns"
   ]
  },
  {
   "cell_type": "code",
   "execution_count": 116,
   "id": "181d73af",
   "metadata": {},
   "outputs": [
    {
     "data": {
      "text/plain": [
       "<AxesSubplot:xlabel='study_hours', ylabel='exam_score'>"
      ]
     },
     "execution_count": 116,
     "metadata": {},
     "output_type": "execute_result"
    },
    {
     "data": {
      "image/png": "[encoded data removed]",
      "text/plain": [
       "<Figure size 432x288 with 1 Axes>"
      ]
     },
     "metadata": {
      "needs_background": "light"
     },
     "output_type": "display_data"
    }
   ],
   "source": [
    "sns.regplot(x=\"study_hours\", y=\"exam_score\", data=df)"
   ]
  },
  {
   "cell_type": "code",
   "execution_count": null,
   "id": "3fe65298",
   "metadata": {},
   "outputs": [],
   "source": []
  }
 ],
 "metadata": {
  "kernelspec": {
   "display_name": "learn-env",
   "language": "python",
   "name": "python3"
  },
  "language_info": {
   "codemirror_mode": {
    "name": "ipython",
    "version": 3
   },
   "file_extension": ".py",
   "mimetype": "text/x-python",
   "name": "python",
   "nbconvert_exporter": "python",
   "pygments_lexer": "ipython3",
   "version": "3.8.5"
  }
 },
 "nbformat": 4,
 "nbformat_minor": 5
}
